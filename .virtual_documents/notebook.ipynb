import numpy as np
import pandas as pd
import matplotlib.pyplot as plt
import seaborn as sb

from sklearn.model_selection import train_test_split
from sklearn.preprocessing import MinMaxScaler
from sklearn import metrics
from sklearn.svm import SVC
from xgboost import XGBClassifier
from sklearn.linear_model import LogisticRegression

import warnings
warnings.filterwarnings('ignore')


df = pd.read_csv('winequalityN.csv')
print(df.head().T)


df.info()


df.describe().T


df.isnull().sum()


for col in df.columns:
  if df[col].isnull().sum() > 0:
    df[col] = df[col].fillna(df[col].mean())

df.isnull().sum().sum()


df.hist(bins=20, figsize=(10, 10))
plt.show()


plt.bar(df['quality'], df['alcohol'])
plt.xlabel('quality')
plt.ylabel('alcohol')
plt.show()


col = 'type'
df[col].dtype


df[col].value_counts()


df.replace({'white': 1, 'red': 0}, inplace=True)


# Convert 'object' columns to numerical if they represent numbers
for col in df.columns:
    if df[col].dtype == 'O':
        try:
            df[col] = pd.to_numeric(df[col], errors='coerce')  # Convert to numeric, replace non-convertibles with NaN
        except:
            pass  # Skip columns that cannot be converted

plt.figure(figsize=(12, 12))
sb.heatmap(df.corr() > 0.7, annot=True, cbar=False)
plt.show()


df = df.drop('total sulfur dioxide', axis=1)


df.quality


df['best quality'] = [1 if x > 5 else 0 for x in df.quality]
df.head().T


#df.replace({'white': 1, 'red': 0}, inplace=True)


df.type


df.type.isnull().sum()


features = df.drop(['quality', 'best quality'], axis=1)
target = df['best quality']


features.isnull().sum()


xtrain, xtest, ytrain, ytest = train_test_split(features, target, test_size=0.2, random_state=40)


xtrain, xtest, ytrain, ytest = train_test_split(
	features, target, test_size=0.2, random_state=40)

# Impute missing values after splitting
from sklearn.impute import SimpleImputer
imputer = SimpleImputer(strategy='mean')  # Or another strategy like 'median'
xtrain = imputer.fit_transform(xtrain)
xtest = imputer.transform(xtest)

xtrain.shape, xtest.shape


norm = MinMaxScaler()
xtrain = norm.fit_transform(xtrain)
xtest = norm.transform(xtest)


from sklearn.tree import DecisionTreeClassifier


from sklearn.ensemble import RandomForestClassifier


models = [LogisticRegression(), XGBClassifier(), SVC(kernel='rbf'), DecisionTreeClassifier(random_state=42,max_depth=18), RandomForestClassifier(random_state=42,max_depth=15)]

for i in range(5):
    models[i].fit(xtrain, ytrain)

    print(f'{models[i]} : ')
    print('Training Accuracy : ', metrics.roc_auc_score(ytrain, models[i].predict(xtrain)))
    print('Validation Accuracy : ', metrics.roc_auc_score(ytest, models[i].predict(xtest)))
    print()


from sklearn.metrics import confusion_matrix, ConfusionMatrixDisplay
import matplotlib.pyplot as plt


for i in range(5):
    print(f'{models[i]} : ')
    cm = confusion_matrix(ytest, models[i].predict(xtest))
    disp = ConfusionMatrixDisplay(confusion_matrix=cm, display_labels=models[i].classes_) # Assuming your model has a 'classes_' attribute
    disp.plot()
    plt.show()
    print()


for i in range(5):
    print(f'{models[i]} : ')
    print(metrics.classification_report(ytest, models[i].predict(xtest)))
    print()



